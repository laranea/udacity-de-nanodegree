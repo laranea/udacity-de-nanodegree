{
 "cells": [
  {
   "cell_type": "markdown",
   "metadata": {},
   "source": [
    "# Data modeling with Apache Cassandra"
   ]
  },
  {
   "cell_type": "markdown",
   "metadata": {},
   "source": [
    "## Part I. ETL Pipeline for pre-processing files"
   ]
  },
  {
   "cell_type": "markdown",
   "metadata": {},
   "source": [
    "### Setup"
   ]
  },
  {
   "cell_type": "code",
   "execution_count": 33,
   "metadata": {},
   "outputs": [],
   "source": [
    "from pathlib import Path\n",
    "import pandas as pd\n",
    "import cassandra\n",
    "from helpers import *\n",
    "from queries import *"
   ]
  },
  {
   "cell_type": "code",
   "execution_count": 2,
   "metadata": {},
   "outputs": [],
   "source": [
    "%load_ext autoreload\n",
    "%autoreload 2"
   ]
  },
  {
   "cell_type": "markdown",
   "metadata": {},
   "source": [
    "### Create a list of filepaths to process original event data csv files"
   ]
  },
  {
   "cell_type": "code",
   "execution_count": 3,
   "metadata": {},
   "outputs": [],
   "source": [
    "root_path = Path.cwd()\n",
    "data_path = root_path.joinpath(\"event_data\")"
   ]
  },
  {
   "cell_type": "code",
   "execution_count": 4,
   "metadata": {},
   "outputs": [],
   "source": [
    "file_path_list = [e for e in data_path.rglob(\"*.csv\")]"
   ]
  },
  {
   "cell_type": "code",
   "execution_count": 5,
   "metadata": {},
   "outputs": [
    {
     "name": "stdout",
     "output_type": "stream",
     "text": [
      "Found 30 CSV files in: /home/workspace/event_data\n"
     ]
    }
   ],
   "source": [
    "print(f\"Found {len(file_path_list)} CSV files in: {data_path}\")"
   ]
  },
  {
   "cell_type": "markdown",
   "metadata": {},
   "source": [
    "### Process individual files to create a single file that will be used for Apache Casssandra tables"
   ]
  },
  {
   "cell_type": "markdown",
   "metadata": {},
   "source": [
    "Let's take a look at one individual csv file first"
   ]
  },
  {
   "cell_type": "code",
   "execution_count": 6,
   "metadata": {},
   "outputs": [],
   "source": [
    "first_file = file_path_list[0]"
   ]
  },
  {
   "cell_type": "code",
   "execution_count": 7,
   "metadata": {},
   "outputs": [
    {
     "name": "stdout",
     "output_type": "stream",
     "text": [
      "artist,auth,firstName,gender,itemInSession,lastName,length,level,location,method,page,registration,sessionId,song,status,ts,userId\n",
      "Muse,Logged In,Harper,M,1,Barrett,209.50159,paid,\"New York-Newark-Jersey City, NY-NJ-PA\",PUT,NextSong,1.54069E+12,275,Supermassive Black Hole (Twilight Soundtrack Version),200,1.54172E+12,42\n",
      "Beastie Boys,Logged In,Harper,M,2,Barrett,161.56689,paid,\"New York-Newark-Jersey City, NY-NJ-PA\",PUT,NextSong,1.54069E+12,275,Lighten Up,200,1.54172E+12,42\n",
      "Shakira,Logged In,Harper,M,3,Barrett,145.84118,paid,\"New York-Newark-Jersey City, NY-NJ-PA\",PUT,NextSong,1.54069E+12,275,Pienso En Ti,200,1.54172E+12,42\n",
      "Selena,Logged In,Harper,M,4,Barrett,172.66893,paid,\"New York-Newark-Jersey City, NY-NJ-PA\",PUT,NextSong,1.54069E+12,275,Amor Prohibido,200,1.54172E+12,42\n",
      "Kid Cudi Vs Crookers,Logged In,Harper,M,5,Barrett,162.97751,paid,\"New York-Newark-Jersey City, NY-NJ-PA\",PUT,NextSong,1.54069E+12,275,Day 'N' Nite,200,1.54172E+12,42\n",
      "Rise Against,Logged In,Harper,M,6,Barrett,179.59138,paid,\"New York-Newark-Jersey City, NY-NJ-PA\",PUT,NextSong,1.54069E+12,275,Black Masks & Gasoline,200,1.54172E+12,42\n",
      "Fall Out Boy,Logged In,Harper,M,7,Barrett,211.69587,paid,\"New York-Newark-Jersey City, NY-NJ-PA\",PUT,NextSong,1.54069E+12,275,I'm Like A Lawyer With The Way I'm Always Trying To Get You Off (Me & You),200,1.54172E+12,42\n",
      "Jack Johnson,Logged In,Harper,M,8,Barrett,196.12689,paid,\"New York-Newark-Jersey City, NY-NJ-PA\",PUT,NextSong,1.54069E+12,275,Staple It Together,200,1.54172E+12,42\n",
      "Twista feat. Kayne West & Jamie Foxx,Logged In,Harper,M,9,Barrett,212.55791,paid,\"New York-Newark-Jersey City, NY-NJ-PA\",PUT,NextSong,1.54069E+12,275,Slow Jamz (Feat. Kanye West & Jamie Foxx) (Edited Album Version),200,1.54172E+12,42\n"
     ]
    }
   ],
   "source": [
    "!head $first_file"
   ]
  },
  {
   "cell_type": "code",
   "execution_count": 8,
   "metadata": {},
   "outputs": [],
   "source": [
    "first_df = pd.read_csv(first_file)"
   ]
  },
  {
   "cell_type": "code",
   "execution_count": 9,
   "metadata": {},
   "outputs": [
    {
     "data": {
      "text/plain": [
       "(283, 17)"
      ]
     },
     "execution_count": 9,
     "metadata": {},
     "output_type": "execute_result"
    }
   ],
   "source": [
    "first_df.shape"
   ]
  },
  {
   "cell_type": "code",
   "execution_count": 10,
   "metadata": {},
   "outputs": [
    {
     "data": {
      "text/html": [
       "<div>\n",
       "<style scoped>\n",
       "    .dataframe tbody tr th:only-of-type {\n",
       "        vertical-align: middle;\n",
       "    }\n",
       "\n",
       "    .dataframe tbody tr th {\n",
       "        vertical-align: top;\n",
       "    }\n",
       "\n",
       "    .dataframe thead th {\n",
       "        text-align: right;\n",
       "    }\n",
       "</style>\n",
       "<table border=\"1\" class=\"dataframe\">\n",
       "  <thead>\n",
       "    <tr style=\"text-align: right;\">\n",
       "      <th></th>\n",
       "      <th>artist</th>\n",
       "      <th>auth</th>\n",
       "      <th>firstName</th>\n",
       "      <th>gender</th>\n",
       "      <th>itemInSession</th>\n",
       "      <th>lastName</th>\n",
       "      <th>length</th>\n",
       "      <th>level</th>\n",
       "      <th>location</th>\n",
       "      <th>method</th>\n",
       "      <th>page</th>\n",
       "      <th>registration</th>\n",
       "      <th>sessionId</th>\n",
       "      <th>song</th>\n",
       "      <th>status</th>\n",
       "      <th>ts</th>\n",
       "      <th>userId</th>\n",
       "    </tr>\n",
       "  </thead>\n",
       "  <tbody>\n",
       "    <tr>\n",
       "      <th>0</th>\n",
       "      <td>Muse</td>\n",
       "      <td>Logged In</td>\n",
       "      <td>Harper</td>\n",
       "      <td>M</td>\n",
       "      <td>1</td>\n",
       "      <td>Barrett</td>\n",
       "      <td>209.50159</td>\n",
       "      <td>paid</td>\n",
       "      <td>New York-Newark-Jersey City, NY-NJ-PA</td>\n",
       "      <td>PUT</td>\n",
       "      <td>NextSong</td>\n",
       "      <td>1.540690e+12</td>\n",
       "      <td>275</td>\n",
       "      <td>Supermassive Black Hole (Twilight Soundtrack V...</td>\n",
       "      <td>200</td>\n",
       "      <td>1.541720e+12</td>\n",
       "      <td>42.0</td>\n",
       "    </tr>\n",
       "    <tr>\n",
       "      <th>1</th>\n",
       "      <td>Beastie Boys</td>\n",
       "      <td>Logged In</td>\n",
       "      <td>Harper</td>\n",
       "      <td>M</td>\n",
       "      <td>2</td>\n",
       "      <td>Barrett</td>\n",
       "      <td>161.56689</td>\n",
       "      <td>paid</td>\n",
       "      <td>New York-Newark-Jersey City, NY-NJ-PA</td>\n",
       "      <td>PUT</td>\n",
       "      <td>NextSong</td>\n",
       "      <td>1.540690e+12</td>\n",
       "      <td>275</td>\n",
       "      <td>Lighten Up</td>\n",
       "      <td>200</td>\n",
       "      <td>1.541720e+12</td>\n",
       "      <td>42.0</td>\n",
       "    </tr>\n",
       "    <tr>\n",
       "      <th>2</th>\n",
       "      <td>Shakira</td>\n",
       "      <td>Logged In</td>\n",
       "      <td>Harper</td>\n",
       "      <td>M</td>\n",
       "      <td>3</td>\n",
       "      <td>Barrett</td>\n",
       "      <td>145.84118</td>\n",
       "      <td>paid</td>\n",
       "      <td>New York-Newark-Jersey City, NY-NJ-PA</td>\n",
       "      <td>PUT</td>\n",
       "      <td>NextSong</td>\n",
       "      <td>1.540690e+12</td>\n",
       "      <td>275</td>\n",
       "      <td>Pienso En Ti</td>\n",
       "      <td>200</td>\n",
       "      <td>1.541720e+12</td>\n",
       "      <td>42.0</td>\n",
       "    </tr>\n",
       "    <tr>\n",
       "      <th>3</th>\n",
       "      <td>Selena</td>\n",
       "      <td>Logged In</td>\n",
       "      <td>Harper</td>\n",
       "      <td>M</td>\n",
       "      <td>4</td>\n",
       "      <td>Barrett</td>\n",
       "      <td>172.66893</td>\n",
       "      <td>paid</td>\n",
       "      <td>New York-Newark-Jersey City, NY-NJ-PA</td>\n",
       "      <td>PUT</td>\n",
       "      <td>NextSong</td>\n",
       "      <td>1.540690e+12</td>\n",
       "      <td>275</td>\n",
       "      <td>Amor Prohibido</td>\n",
       "      <td>200</td>\n",
       "      <td>1.541720e+12</td>\n",
       "      <td>42.0</td>\n",
       "    </tr>\n",
       "    <tr>\n",
       "      <th>4</th>\n",
       "      <td>Kid Cudi Vs Crookers</td>\n",
       "      <td>Logged In</td>\n",
       "      <td>Harper</td>\n",
       "      <td>M</td>\n",
       "      <td>5</td>\n",
       "      <td>Barrett</td>\n",
       "      <td>162.97751</td>\n",
       "      <td>paid</td>\n",
       "      <td>New York-Newark-Jersey City, NY-NJ-PA</td>\n",
       "      <td>PUT</td>\n",
       "      <td>NextSong</td>\n",
       "      <td>1.540690e+12</td>\n",
       "      <td>275</td>\n",
       "      <td>Day 'N' Nite</td>\n",
       "      <td>200</td>\n",
       "      <td>1.541720e+12</td>\n",
       "      <td>42.0</td>\n",
       "    </tr>\n",
       "  </tbody>\n",
       "</table>\n",
       "</div>"
      ],
      "text/plain": [
       "                 artist       auth firstName gender  itemInSession lastName  \\\n",
       "0                  Muse  Logged In    Harper      M              1  Barrett   \n",
       "1          Beastie Boys  Logged In    Harper      M              2  Barrett   \n",
       "2               Shakira  Logged In    Harper      M              3  Barrett   \n",
       "3                Selena  Logged In    Harper      M              4  Barrett   \n",
       "4  Kid Cudi Vs Crookers  Logged In    Harper      M              5  Barrett   \n",
       "\n",
       "      length level                               location method      page  \\\n",
       "0  209.50159  paid  New York-Newark-Jersey City, NY-NJ-PA    PUT  NextSong   \n",
       "1  161.56689  paid  New York-Newark-Jersey City, NY-NJ-PA    PUT  NextSong   \n",
       "2  145.84118  paid  New York-Newark-Jersey City, NY-NJ-PA    PUT  NextSong   \n",
       "3  172.66893  paid  New York-Newark-Jersey City, NY-NJ-PA    PUT  NextSong   \n",
       "4  162.97751  paid  New York-Newark-Jersey City, NY-NJ-PA    PUT  NextSong   \n",
       "\n",
       "   registration  sessionId                                               song  \\\n",
       "0  1.540690e+12        275  Supermassive Black Hole (Twilight Soundtrack V...   \n",
       "1  1.540690e+12        275                                         Lighten Up   \n",
       "2  1.540690e+12        275                                       Pienso En Ti   \n",
       "3  1.540690e+12        275                                     Amor Prohibido   \n",
       "4  1.540690e+12        275                                       Day 'N' Nite   \n",
       "\n",
       "   status            ts  userId  \n",
       "0     200  1.541720e+12    42.0  \n",
       "1     200  1.541720e+12    42.0  \n",
       "2     200  1.541720e+12    42.0  \n",
       "3     200  1.541720e+12    42.0  \n",
       "4     200  1.541720e+12    42.0  "
      ]
     },
     "execution_count": 10,
     "metadata": {},
     "output_type": "execute_result"
    }
   ],
   "source": [
    "first_df.head()"
   ]
  },
  {
   "cell_type": "markdown",
   "metadata": {},
   "source": [
    "Load all csv files into one dataframe and save it as CSV"
   ]
  },
  {
   "cell_type": "code",
   "execution_count": 11,
   "metadata": {},
   "outputs": [
    {
     "name": "stdout",
     "output_type": "stream",
     "text": [
      "Loaded file from disk\n",
      "Shape: (8056, 17)\n"
     ]
    }
   ],
   "source": [
    "try:\n",
    "    df = pd.read_csv(f\"{root_path}/event_datafile_new.csv\")\n",
    "    print(\"Loaded file from disk\")\n",
    "except FileNotFoundError:\n",
    "    columns = [\"artist\", \"firstName\", \"gender\", \"itemInSession\", \"lastName\", \"length\", \"level\", \"location\", \"sessionId\", \"song\", \"userId\"]\n",
    "    df = load_all_records(file_path_list, columns)\n",
    "finally:\n",
    "    print(f\"Shape: {df.shape}\")"
   ]
  },
  {
   "cell_type": "code",
   "execution_count": 12,
   "metadata": {},
   "outputs": [
    {
     "data": {
      "text/html": [
       "<div>\n",
       "<style scoped>\n",
       "    .dataframe tbody tr th:only-of-type {\n",
       "        vertical-align: middle;\n",
       "    }\n",
       "\n",
       "    .dataframe tbody tr th {\n",
       "        vertical-align: top;\n",
       "    }\n",
       "\n",
       "    .dataframe thead th {\n",
       "        text-align: right;\n",
       "    }\n",
       "</style>\n",
       "<table border=\"1\" class=\"dataframe\">\n",
       "  <thead>\n",
       "    <tr style=\"text-align: right;\">\n",
       "      <th></th>\n",
       "      <th>artist</th>\n",
       "      <th>auth</th>\n",
       "      <th>firstName</th>\n",
       "      <th>gender</th>\n",
       "      <th>itemInSession</th>\n",
       "      <th>lastName</th>\n",
       "      <th>length</th>\n",
       "      <th>level</th>\n",
       "      <th>location</th>\n",
       "      <th>method</th>\n",
       "      <th>page</th>\n",
       "      <th>registration</th>\n",
       "      <th>sessionId</th>\n",
       "      <th>song</th>\n",
       "      <th>status</th>\n",
       "      <th>ts</th>\n",
       "      <th>userId</th>\n",
       "    </tr>\n",
       "  </thead>\n",
       "  <tbody>\n",
       "    <tr>\n",
       "      <th>0</th>\n",
       "      <td>Miami Horror</td>\n",
       "      <td>Logged In</td>\n",
       "      <td>Kate</td>\n",
       "      <td>F</td>\n",
       "      <td>88</td>\n",
       "      <td>Harrell</td>\n",
       "      <td>250.82730</td>\n",
       "      <td>paid</td>\n",
       "      <td>Lansing-East Lansing, MI</td>\n",
       "      <td>PUT</td>\n",
       "      <td>NextSong</td>\n",
       "      <td>1.540470e+12</td>\n",
       "      <td>293</td>\n",
       "      <td>Sometimes</td>\n",
       "      <td>200</td>\n",
       "      <td>1.541550e+12</td>\n",
       "      <td>97.0</td>\n",
       "    </tr>\n",
       "    <tr>\n",
       "      <th>1</th>\n",
       "      <td>The White Stripes</td>\n",
       "      <td>Logged In</td>\n",
       "      <td>Kate</td>\n",
       "      <td>F</td>\n",
       "      <td>89</td>\n",
       "      <td>Harrell</td>\n",
       "      <td>241.86730</td>\n",
       "      <td>paid</td>\n",
       "      <td>Lansing-East Lansing, MI</td>\n",
       "      <td>PUT</td>\n",
       "      <td>NextSong</td>\n",
       "      <td>1.540470e+12</td>\n",
       "      <td>293</td>\n",
       "      <td>My Doorbell (Album Version)</td>\n",
       "      <td>200</td>\n",
       "      <td>1.541550e+12</td>\n",
       "      <td>97.0</td>\n",
       "    </tr>\n",
       "    <tr>\n",
       "      <th>2</th>\n",
       "      <td>Juan Carmona</td>\n",
       "      <td>Logged In</td>\n",
       "      <td>Kate</td>\n",
       "      <td>F</td>\n",
       "      <td>90</td>\n",
       "      <td>Harrell</td>\n",
       "      <td>331.44118</td>\n",
       "      <td>paid</td>\n",
       "      <td>Lansing-East Lansing, MI</td>\n",
       "      <td>PUT</td>\n",
       "      <td>NextSong</td>\n",
       "      <td>1.540470e+12</td>\n",
       "      <td>293</td>\n",
       "      <td>Panales de Algodon</td>\n",
       "      <td>200</td>\n",
       "      <td>1.541550e+12</td>\n",
       "      <td>97.0</td>\n",
       "    </tr>\n",
       "    <tr>\n",
       "      <th>3</th>\n",
       "      <td>Alison Krauss / Union Station</td>\n",
       "      <td>Logged In</td>\n",
       "      <td>Kate</td>\n",
       "      <td>F</td>\n",
       "      <td>91</td>\n",
       "      <td>Harrell</td>\n",
       "      <td>171.04934</td>\n",
       "      <td>paid</td>\n",
       "      <td>Lansing-East Lansing, MI</td>\n",
       "      <td>PUT</td>\n",
       "      <td>NextSong</td>\n",
       "      <td>1.540470e+12</td>\n",
       "      <td>293</td>\n",
       "      <td>Restless</td>\n",
       "      <td>200</td>\n",
       "      <td>1.541550e+12</td>\n",
       "      <td>97.0</td>\n",
       "    </tr>\n",
       "    <tr>\n",
       "      <th>4</th>\n",
       "      <td>Bullet For My Valentine</td>\n",
       "      <td>Logged In</td>\n",
       "      <td>Kate</td>\n",
       "      <td>F</td>\n",
       "      <td>92</td>\n",
       "      <td>Harrell</td>\n",
       "      <td>235.65016</td>\n",
       "      <td>paid</td>\n",
       "      <td>Lansing-East Lansing, MI</td>\n",
       "      <td>PUT</td>\n",
       "      <td>NextSong</td>\n",
       "      <td>1.540470e+12</td>\n",
       "      <td>293</td>\n",
       "      <td>Begging For Mercy</td>\n",
       "      <td>200</td>\n",
       "      <td>1.541550e+12</td>\n",
       "      <td>97.0</td>\n",
       "    </tr>\n",
       "  </tbody>\n",
       "</table>\n",
       "</div>"
      ],
      "text/plain": [
       "                          artist       auth firstName gender  itemInSession  \\\n",
       "0                   Miami Horror  Logged In      Kate      F             88   \n",
       "1              The White Stripes  Logged In      Kate      F             89   \n",
       "2                   Juan Carmona  Logged In      Kate      F             90   \n",
       "3  Alison Krauss / Union Station  Logged In      Kate      F             91   \n",
       "4        Bullet For My Valentine  Logged In      Kate      F             92   \n",
       "\n",
       "  lastName     length level                  location method      page  \\\n",
       "0  Harrell  250.82730  paid  Lansing-East Lansing, MI    PUT  NextSong   \n",
       "1  Harrell  241.86730  paid  Lansing-East Lansing, MI    PUT  NextSong   \n",
       "2  Harrell  331.44118  paid  Lansing-East Lansing, MI    PUT  NextSong   \n",
       "3  Harrell  171.04934  paid  Lansing-East Lansing, MI    PUT  NextSong   \n",
       "4  Harrell  235.65016  paid  Lansing-East Lansing, MI    PUT  NextSong   \n",
       "\n",
       "   registration  sessionId                         song  status            ts  \\\n",
       "0  1.540470e+12        293                    Sometimes     200  1.541550e+12   \n",
       "1  1.540470e+12        293  My Doorbell (Album Version)     200  1.541550e+12   \n",
       "2  1.540470e+12        293           Panales de Algodon     200  1.541550e+12   \n",
       "3  1.540470e+12        293                     Restless     200  1.541550e+12   \n",
       "4  1.540470e+12        293            Begging For Mercy     200  1.541550e+12   \n",
       "\n",
       "   userId  \n",
       "0    97.0  \n",
       "1    97.0  \n",
       "2    97.0  \n",
       "3    97.0  \n",
       "4    97.0  "
      ]
     },
     "execution_count": 12,
     "metadata": {},
     "output_type": "execute_result"
    }
   ],
   "source": [
    "df.head()"
   ]
  },
  {
   "cell_type": "code",
   "execution_count": 13,
   "metadata": {},
   "outputs": [
    {
     "data": {
      "text/plain": [
       "artist            object\n",
       "auth              object\n",
       "firstName         object\n",
       "gender            object\n",
       "itemInSession      int64\n",
       "lastName          object\n",
       "length           float64\n",
       "level             object\n",
       "location          object\n",
       "method            object\n",
       "page              object\n",
       "registration     float64\n",
       "sessionId          int64\n",
       "song              object\n",
       "status             int64\n",
       "ts               float64\n",
       "userId           float64\n",
       "dtype: object"
      ]
     },
     "execution_count": 13,
     "metadata": {},
     "output_type": "execute_result"
    }
   ],
   "source": [
    "df.dtypes"
   ]
  },
  {
   "cell_type": "markdown",
   "metadata": {},
   "source": [
    "Set correct dtypes for ts (timestamp) and userId (int)"
   ]
  },
  {
   "cell_type": "code",
   "execution_count": 14,
   "metadata": {},
   "outputs": [],
   "source": [
    "# Although userId should be of type int, because of a limitation of pandas < 0.24 (Series of type int can not hold NaNs) we leave it as int\n",
    "# df[\"userId\"] = df[\"userId\"].fillna(0).astype(\"int64\")\n",
    "df[\"ts\"] = df[\"ts\"].astype(\"datetime64[ms]\")"
   ]
  },
  {
   "cell_type": "code",
   "execution_count": 15,
   "metadata": {},
   "outputs": [
    {
     "data": {
      "text/html": [
       "<div>\n",
       "<style scoped>\n",
       "    .dataframe tbody tr th:only-of-type {\n",
       "        vertical-align: middle;\n",
       "    }\n",
       "\n",
       "    .dataframe tbody tr th {\n",
       "        vertical-align: top;\n",
       "    }\n",
       "\n",
       "    .dataframe thead th {\n",
       "        text-align: right;\n",
       "    }\n",
       "</style>\n",
       "<table border=\"1\" class=\"dataframe\">\n",
       "  <thead>\n",
       "    <tr style=\"text-align: right;\">\n",
       "      <th></th>\n",
       "      <th>artist</th>\n",
       "      <th>auth</th>\n",
       "      <th>firstName</th>\n",
       "      <th>gender</th>\n",
       "      <th>itemInSession</th>\n",
       "      <th>lastName</th>\n",
       "      <th>length</th>\n",
       "      <th>level</th>\n",
       "      <th>location</th>\n",
       "      <th>method</th>\n",
       "      <th>page</th>\n",
       "      <th>registration</th>\n",
       "      <th>sessionId</th>\n",
       "      <th>song</th>\n",
       "      <th>status</th>\n",
       "      <th>ts</th>\n",
       "      <th>userId</th>\n",
       "    </tr>\n",
       "  </thead>\n",
       "  <tbody>\n",
       "    <tr>\n",
       "      <th>0</th>\n",
       "      <td>Miami Horror</td>\n",
       "      <td>Logged In</td>\n",
       "      <td>Kate</td>\n",
       "      <td>F</td>\n",
       "      <td>88</td>\n",
       "      <td>Harrell</td>\n",
       "      <td>250.82730</td>\n",
       "      <td>paid</td>\n",
       "      <td>Lansing-East Lansing, MI</td>\n",
       "      <td>PUT</td>\n",
       "      <td>NextSong</td>\n",
       "      <td>1.540470e+12</td>\n",
       "      <td>293</td>\n",
       "      <td>Sometimes</td>\n",
       "      <td>200</td>\n",
       "      <td>2018-11-07 00:20:00</td>\n",
       "      <td>97.0</td>\n",
       "    </tr>\n",
       "    <tr>\n",
       "      <th>1</th>\n",
       "      <td>The White Stripes</td>\n",
       "      <td>Logged In</td>\n",
       "      <td>Kate</td>\n",
       "      <td>F</td>\n",
       "      <td>89</td>\n",
       "      <td>Harrell</td>\n",
       "      <td>241.86730</td>\n",
       "      <td>paid</td>\n",
       "      <td>Lansing-East Lansing, MI</td>\n",
       "      <td>PUT</td>\n",
       "      <td>NextSong</td>\n",
       "      <td>1.540470e+12</td>\n",
       "      <td>293</td>\n",
       "      <td>My Doorbell (Album Version)</td>\n",
       "      <td>200</td>\n",
       "      <td>2018-11-07 00:20:00</td>\n",
       "      <td>97.0</td>\n",
       "    </tr>\n",
       "    <tr>\n",
       "      <th>2</th>\n",
       "      <td>Juan Carmona</td>\n",
       "      <td>Logged In</td>\n",
       "      <td>Kate</td>\n",
       "      <td>F</td>\n",
       "      <td>90</td>\n",
       "      <td>Harrell</td>\n",
       "      <td>331.44118</td>\n",
       "      <td>paid</td>\n",
       "      <td>Lansing-East Lansing, MI</td>\n",
       "      <td>PUT</td>\n",
       "      <td>NextSong</td>\n",
       "      <td>1.540470e+12</td>\n",
       "      <td>293</td>\n",
       "      <td>Panales de Algodon</td>\n",
       "      <td>200</td>\n",
       "      <td>2018-11-07 00:20:00</td>\n",
       "      <td>97.0</td>\n",
       "    </tr>\n",
       "    <tr>\n",
       "      <th>3</th>\n",
       "      <td>Alison Krauss / Union Station</td>\n",
       "      <td>Logged In</td>\n",
       "      <td>Kate</td>\n",
       "      <td>F</td>\n",
       "      <td>91</td>\n",
       "      <td>Harrell</td>\n",
       "      <td>171.04934</td>\n",
       "      <td>paid</td>\n",
       "      <td>Lansing-East Lansing, MI</td>\n",
       "      <td>PUT</td>\n",
       "      <td>NextSong</td>\n",
       "      <td>1.540470e+12</td>\n",
       "      <td>293</td>\n",
       "      <td>Restless</td>\n",
       "      <td>200</td>\n",
       "      <td>2018-11-07 00:20:00</td>\n",
       "      <td>97.0</td>\n",
       "    </tr>\n",
       "    <tr>\n",
       "      <th>4</th>\n",
       "      <td>Bullet For My Valentine</td>\n",
       "      <td>Logged In</td>\n",
       "      <td>Kate</td>\n",
       "      <td>F</td>\n",
       "      <td>92</td>\n",
       "      <td>Harrell</td>\n",
       "      <td>235.65016</td>\n",
       "      <td>paid</td>\n",
       "      <td>Lansing-East Lansing, MI</td>\n",
       "      <td>PUT</td>\n",
       "      <td>NextSong</td>\n",
       "      <td>1.540470e+12</td>\n",
       "      <td>293</td>\n",
       "      <td>Begging For Mercy</td>\n",
       "      <td>200</td>\n",
       "      <td>2018-11-07 00:20:00</td>\n",
       "      <td>97.0</td>\n",
       "    </tr>\n",
       "  </tbody>\n",
       "</table>\n",
       "</div>"
      ],
      "text/plain": [
       "                          artist       auth firstName gender  itemInSession  \\\n",
       "0                   Miami Horror  Logged In      Kate      F             88   \n",
       "1              The White Stripes  Logged In      Kate      F             89   \n",
       "2                   Juan Carmona  Logged In      Kate      F             90   \n",
       "3  Alison Krauss / Union Station  Logged In      Kate      F             91   \n",
       "4        Bullet For My Valentine  Logged In      Kate      F             92   \n",
       "\n",
       "  lastName     length level                  location method      page  \\\n",
       "0  Harrell  250.82730  paid  Lansing-East Lansing, MI    PUT  NextSong   \n",
       "1  Harrell  241.86730  paid  Lansing-East Lansing, MI    PUT  NextSong   \n",
       "2  Harrell  331.44118  paid  Lansing-East Lansing, MI    PUT  NextSong   \n",
       "3  Harrell  171.04934  paid  Lansing-East Lansing, MI    PUT  NextSong   \n",
       "4  Harrell  235.65016  paid  Lansing-East Lansing, MI    PUT  NextSong   \n",
       "\n",
       "   registration  sessionId                         song  status  \\\n",
       "0  1.540470e+12        293                    Sometimes     200   \n",
       "1  1.540470e+12        293  My Doorbell (Album Version)     200   \n",
       "2  1.540470e+12        293           Panales de Algodon     200   \n",
       "3  1.540470e+12        293                     Restless     200   \n",
       "4  1.540470e+12        293            Begging For Mercy     200   \n",
       "\n",
       "                   ts  userId  \n",
       "0 2018-11-07 00:20:00    97.0  \n",
       "1 2018-11-07 00:20:00    97.0  \n",
       "2 2018-11-07 00:20:00    97.0  \n",
       "3 2018-11-07 00:20:00    97.0  \n",
       "4 2018-11-07 00:20:00    97.0  "
      ]
     },
     "execution_count": 15,
     "metadata": {},
     "output_type": "execute_result"
    }
   ],
   "source": [
    "df.head()"
   ]
  },
  {
   "cell_type": "code",
   "execution_count": 16,
   "metadata": {},
   "outputs": [
    {
     "name": "stdout",
     "output_type": "stream",
     "text": [
      "File event_datafile_new.csv does already exist\n"
     ]
    }
   ],
   "source": [
    "if not root_path.joinpath(\"event_datafile_new.csv\").exists():\n",
    "    df.to_csv(f\"{root_path}/event_datafile_new.csv\", index=False)\n",
    "else:\n",
    "    print(\"File event_datafile_new.csv does already exist\")"
   ]
  },
  {
   "cell_type": "markdown",
   "metadata": {},
   "source": [
    "## Part II. Data Modelling with Apache Cassandra\n",
    "\n",
    "Now we are ready to work with the CSV file titled <font color=red>**event_datafile_new.csv**</font>, located within the W\\workspace directory.  \n",
    "The event_datafile_new.csv contains the following columns: \n",
    "- artist \n",
    "- firstName of user\n",
    "- gender of user\n",
    "- item number in session\n",
    "- last name of user\n",
    "- length of the song\n",
    "- level (paid or free song)\n",
    "- location of the user\n",
    "- sessionId\n",
    "- song title\n",
    "- userId\n",
    "\n",
    "The image below is a screenshot of what the denormalized data should appear like in the <font color=red>**event_datafile_new.csv**</font> after the code above is run:<br>\n",
    "\n",
    "<img src=\"images/image_event_datafile_new.jpg\">"
   ]
  },
  {
   "cell_type": "markdown",
   "metadata": {},
   "source": [
    "#### Create Cluster"
   ]
  },
  {
   "cell_type": "code",
   "execution_count": 17,
   "metadata": {},
   "outputs": [],
   "source": [
    "from cassandra.cluster import Cluster\n",
    "\n",
    "cluster = Cluster()\n",
    "session = cluster.connect()"
   ]
  },
  {
   "cell_type": "markdown",
   "metadata": {},
   "source": [
    "#### Create Keyspace"
   ]
  },
  {
   "cell_type": "code",
   "execution_count": 18,
   "metadata": {},
   "outputs": [
    {
     "data": {
      "text/plain": [
       "<cassandra.cluster.ResultSet at 0x7f7116ddc710>"
      ]
     },
     "execution_count": 18,
     "metadata": {},
     "output_type": "execute_result"
    }
   ],
   "source": [
    "# http://cassandra.apache.org/doc/latest/cql/ddl.html#create-keyspace\n",
    "session.execute(cluster_create_keyspace)"
   ]
  },
  {
   "cell_type": "markdown",
   "metadata": {},
   "source": [
    "#### Set Keyspace"
   ]
  },
  {
   "cell_type": "code",
   "execution_count": 19,
   "metadata": {},
   "outputs": [],
   "source": [
    "session.set_keyspace(\"sparkify\")"
   ]
  },
  {
   "cell_type": "markdown",
   "metadata": {},
   "source": [
    "## Create queries to find answers to the following three questions\n",
    "\n",
    "1. Give me the artist, song title and song's length in the music app history that was heard during  sessionId = 338, and itemInSession  = 4\n",
    "2. Give me only the following: name of artist, song (sorted by itemInSession) and user (first and last name) for userid = 10, sessionid = 182\n",
    "3. Give me every user name (first and last) in my music app history who listened to the song 'All Hands Against His Own'"
   ]
  },
  {
   "cell_type": "markdown",
   "metadata": {},
   "source": [
    "### Query 1"
   ]
  },
  {
   "cell_type": "code",
   "execution_count": 20,
   "metadata": {},
   "outputs": [
    {
     "data": {
      "text/plain": [
       "<cassandra.cluster.ResultSet at 0x7f7116ddc198>"
      ]
     },
     "execution_count": 20,
     "metadata": {},
     "output_type": "execute_result"
    }
   ],
   "source": [
    "session.execute(q1_drop_table)"
   ]
  },
  {
   "cell_type": "code",
   "execution_count": 21,
   "metadata": {},
   "outputs": [
    {
     "data": {
      "text/plain": [
       "<cassandra.cluster.ResultSet at 0x7f7116dd96d8>"
      ]
     },
     "execution_count": 21,
     "metadata": {},
     "output_type": "execute_result"
    }
   ],
   "source": [
    "session.execute(q1_create_table)"
   ]
  },
  {
   "cell_type": "markdown",
   "metadata": {},
   "source": [
    "#### Insert data"
   ]
  },
  {
   "cell_type": "code",
   "execution_count": 22,
   "metadata": {},
   "outputs": [
    {
     "name": "stdout",
     "output_type": "stream",
     "text": [
      "INSERT INTO song_playlist_session (sessionId, itemInSession, artist, song, length) VALUES (?, ?, ?, ?, ?)\n"
     ]
    }
   ],
   "source": [
    "table = \"song_playlist_session\"\n",
    "cols = [\"sessionId\", \"itemInSession\", \"artist\", \"song\", \"length\"]\n",
    "q1_cql = f\"INSERT INTO {table} ({cols[0]}, {cols[1]}, {cols[2]}, {cols[3]}, {cols[4]}) VALUES (?, ?, ?, ?, ?)\"\n",
    "print(q1_cql)"
   ]
  },
  {
   "cell_type": "code",
   "execution_count": 23,
   "metadata": {},
   "outputs": [
    {
     "name": "stdout",
     "output_type": "stream",
     "text": [
      "Starting batch insert for 8056 rows in 17 batches of size 500\n",
      "Inserted 474 rows of data\n",
      "Inserted 474 rows of data\n",
      "Inserted 474 rows of data\n",
      "Inserted 474 rows of data\n",
      "Inserted 474 rows of data\n",
      "Inserted 474 rows of data\n",
      "Inserted 474 rows of data\n",
      "Inserted 474 rows of data\n",
      "Inserted 474 rows of data\n",
      "Inserted 474 rows of data\n",
      "Inserted 474 rows of data\n",
      "Inserted 474 rows of data\n",
      "Inserted 474 rows of data\n",
      "Inserted 474 rows of data\n",
      "Inserted 474 rows of data\n",
      "Inserted 473 rows of data\n",
      "Inserted 473 rows of data\n",
      "Batch insert finished\n"
     ]
    }
   ],
   "source": [
    "batch_insert(cql=q1_cql, cols=cols, data=df, size=500, session=session)"
   ]
  },
  {
   "cell_type": "markdown",
   "metadata": {},
   "source": [
    "#### Perform sanity check"
   ]
  },
  {
   "cell_type": "code",
   "execution_count": 25,
   "metadata": {},
   "outputs": [
    {
     "data": {
      "text/plain": [
       "[Row(sessionid=23, iteminsession=0, artist='Regina Spektor', length=191.08526611328125, song='The Calculation (Album Version)'),\n",
       " Row(sessionid=23, iteminsession=1, artist='Octopus Project', length=250.95791625976562, song='All Of The Champs That Ever Lived'),\n",
       " Row(sessionid=23, iteminsession=2, artist='Tegan And Sara', length=180.06158447265625, song='So Jealous'),\n",
       " Row(sessionid=23, iteminsession=3, artist='Dragonette', length=153.39056396484375, song='Okay Dolores'),\n",
       " Row(sessionid=23, iteminsession=4, artist='Lil Wayne / Eminem', length=229.58975219726562, song='Drop The World')]"
      ]
     },
     "execution_count": 25,
     "metadata": {},
     "output_type": "execute_result"
    }
   ],
   "source": [
    "query(f\"SELECT * FROM {table} LIMIT 5\", session, print_result=False)"
   ]
  },
  {
   "cell_type": "markdown",
   "metadata": {},
   "source": [
    "#### Execute query\n",
    "_Give me the artist, song title and song's length in the music app history that was heard during sessionId = 338, and itemInSession = 4_"
   ]
  },
  {
   "cell_type": "code",
   "execution_count": 26,
   "metadata": {},
   "outputs": [
    {
     "name": "stdout",
     "output_type": "stream",
     "text": [
      "[Row(artist='Faithless', song='Music Matters (Mark Knight Dub)', length=495.30731201171875)]\n"
     ]
    }
   ],
   "source": [
    "q1 = query(q1_query, session)"
   ]
  },
  {
   "cell_type": "markdown",
   "metadata": {},
   "source": [
    "### Query 2"
   ]
  },
  {
   "cell_type": "code",
   "execution_count": 34,
   "metadata": {},
   "outputs": [
    {
     "data": {
      "text/plain": [
       "<cassandra.cluster.ResultSet at 0x7f7116dc3588>"
      ]
     },
     "execution_count": 34,
     "metadata": {},
     "output_type": "execute_result"
    }
   ],
   "source": [
    "session.execute(q2_drop_table)"
   ]
  },
  {
   "cell_type": "code",
   "execution_count": 35,
   "metadata": {},
   "outputs": [
    {
     "data": {
      "text/plain": [
       "<cassandra.cluster.ResultSet at 0x7f7116dcda20>"
      ]
     },
     "execution_count": 35,
     "metadata": {},
     "output_type": "execute_result"
    }
   ],
   "source": [
    "session.execute(q2_create_table)"
   ]
  },
  {
   "cell_type": "markdown",
   "metadata": {},
   "source": [
    "#### Insert data"
   ]
  },
  {
   "cell_type": "code",
   "execution_count": 36,
   "metadata": {},
   "outputs": [
    {
     "name": "stdout",
     "output_type": "stream",
     "text": [
      "INSERT INTO song_playlist_user (userId, sessionId, itemInSession, artist, song, firstName, lastName) VALUES (?, ?, ?, ?, ?, ?, ?)\n"
     ]
    }
   ],
   "source": [
    "table = \"song_playlist_user\"\n",
    "cols = [\"userId\", \"sessionId\", \"itemInSession\", \"artist\", \"song\", \"firstName\", \"lastName\"]\n",
    "q2_cql = f\"INSERT INTO {table} ({cols[0]}, {cols[1]}, {cols[2]}, {cols[3]}, {cols[4]}, {cols[5]}, {cols[6]}) VALUES (?, ?, ?, ?, ?, ?, ?)\"\n",
    "print(q2_cql)"
   ]
  },
  {
   "cell_type": "code",
   "execution_count": 37,
   "metadata": {},
   "outputs": [
    {
     "name": "stdout",
     "output_type": "stream",
     "text": [
      "Starting batch insert for 8056 rows in 33 batches of size 250\n",
      "Inserted 245 rows of data\n",
      "Inserted 245 rows of data\n",
      "Inserted 245 rows of data\n",
      "Inserted 245 rows of data\n",
      "Inserted 244 rows of data\n",
      "Inserted 244 rows of data\n",
      "Inserted 244 rows of data\n",
      "Inserted 244 rows of data\n",
      "Inserted 244 rows of data\n",
      "Inserted 244 rows of data\n",
      "Inserted 244 rows of data\n",
      "Inserted 244 rows of data\n",
      "Inserted 244 rows of data\n",
      "Inserted 244 rows of data\n",
      "Inserted 244 rows of data\n",
      "Inserted 244 rows of data\n",
      "Inserted 244 rows of data\n",
      "Inserted 244 rows of data\n",
      "Inserted 244 rows of data\n",
      "Inserted 244 rows of data\n",
      "Inserted 244 rows of data\n",
      "Inserted 244 rows of data\n",
      "Inserted 244 rows of data\n",
      "Inserted 244 rows of data\n",
      "Inserted 244 rows of data\n",
      "Inserted 244 rows of data\n",
      "Inserted 244 rows of data\n",
      "Inserted 244 rows of data\n",
      "Inserted 244 rows of data\n",
      "Inserted 244 rows of data\n",
      "Inserted 244 rows of data\n",
      "Inserted 244 rows of data\n",
      "Inserted 244 rows of data\n",
      "Batch insert finished\n"
     ]
    }
   ],
   "source": [
    "batch_insert(cql=q2_cql, cols=cols, data=df, size=250, session=session)"
   ]
  },
  {
   "cell_type": "markdown",
   "metadata": {},
   "source": [
    "#### Perform sanity check"
   ]
  },
  {
   "cell_type": "code",
   "execution_count": 39,
   "metadata": {},
   "outputs": [
    {
     "data": {
      "text/plain": [
       "[Row(userid=30.0, sessionid=872, iteminsession=0, artist='Pepper', firstname='Avery', lastname='Watkins', song='Dry Spell (LP Version)'),\n",
       " Row(userid=95.0, sessionid=222, iteminsession=32, artist='Britt Nicole', firstname='Sara', lastname='Johnson', song='Like A Star'),\n",
       " Row(userid=95.0, sessionid=222, iteminsession=31, artist='Britt Nicole', firstname='Sara', lastname='Johnson', song='Like A Star'),\n",
       " Row(userid=95.0, sessionid=222, iteminsession=30, artist='ZZ Top', firstname='Sara', lastname='Johnson', song='Avalon Hideaway (LP Version)'),\n",
       " Row(userid=95.0, sessionid=222, iteminsession=29, artist='The Knack', firstname='Sara', lastname='Johnson', song='Let Me Out')]"
      ]
     },
     "execution_count": 39,
     "metadata": {},
     "output_type": "execute_result"
    }
   ],
   "source": [
    "query(f\"SELECT * FROM {table} LIMIT 5\", session, print_result=False)"
   ]
  },
  {
   "cell_type": "markdown",
   "metadata": {},
   "source": [
    "#### Execute query\n",
    "_Give me only the following: name of artist, song (sorted by itemInSession) and user (first and last name) for userid = 10, sessionid = 182_"
   ]
  },
  {
   "cell_type": "code",
   "execution_count": 40,
   "metadata": {},
   "outputs": [
    {
     "name": "stdout",
     "output_type": "stream",
     "text": [
      "[Row(artist='Lonnie Gordon', song='Catch You Baby (Steve Pitron & Max Sanna Radio Edit)', firstname='Sylvie', lastname='Cruz', iteminsession=3),\n",
      " Row(artist='Sebastien Tellier', song='Kilometer', firstname='Sylvie', lastname='Cruz', iteminsession=2),\n",
      " Row(artist='Three Drives', song='Greece 2000', firstname='Sylvie', lastname='Cruz', iteminsession=1),\n",
      " Row(artist='Down To The Bone', song=\"Keep On Keepin' On\", firstname='Sylvie', lastname='Cruz', iteminsession=0)]\n"
     ]
    }
   ],
   "source": [
    "# explicitly select itemInSession to show that sorting works\n",
    "q2 = query(q2_query, session)"
   ]
  },
  {
   "cell_type": "markdown",
   "metadata": {},
   "source": [
    "### Query 3"
   ]
  },
  {
   "cell_type": "code",
   "execution_count": 41,
   "metadata": {},
   "outputs": [
    {
     "data": {
      "text/plain": [
       "<cassandra.cluster.ResultSet at 0x7f7116dd9c88>"
      ]
     },
     "execution_count": 41,
     "metadata": {},
     "output_type": "execute_result"
    }
   ],
   "source": [
    "session.execute(q3_drop_table)"
   ]
  },
  {
   "cell_type": "code",
   "execution_count": 42,
   "metadata": {},
   "outputs": [
    {
     "data": {
      "text/plain": [
       "<cassandra.cluster.ResultSet at 0x7f7116dabf28>"
      ]
     },
     "execution_count": 42,
     "metadata": {},
     "output_type": "execute_result"
    }
   ],
   "source": [
    "session.execute(q3_create_table)"
   ]
  },
  {
   "cell_type": "markdown",
   "metadata": {},
   "source": [
    "#### Insert data"
   ]
  },
  {
   "cell_type": "code",
   "execution_count": 43,
   "metadata": {},
   "outputs": [
    {
     "name": "stdout",
     "output_type": "stream",
     "text": [
      "INSERT INTO song_user_name (song, userId, firstName, lastName) VALUES (?, ?, ?, ?)\n"
     ]
    }
   ],
   "source": [
    "table = \"song_user_name\"\n",
    "cols = [\"song\", \"userId\", \"firstName\", \"lastName\"]\n",
    "q3_cql = f\"INSERT INTO {table} ({cols[0]}, {cols[1]}, {cols[2]}, {cols[3]}) VALUES (?, ?, ?, ?)\"\n",
    "print(q3_cql)"
   ]
  },
  {
   "cell_type": "code",
   "execution_count": 44,
   "metadata": {},
   "outputs": [
    {
     "name": "stdout",
     "output_type": "stream",
     "text": [
      "Starting batch insert for 8056 rows in 17 batches of size 500\n",
      "Inserted 474 rows of data\n",
      "Inserted 474 rows of data\n",
      "Inserted 474 rows of data\n",
      "Inserted 474 rows of data\n",
      "Inserted 474 rows of data\n",
      "Inserted 474 rows of data\n",
      "Inserted 474 rows of data\n",
      "Inserted 474 rows of data\n",
      "Inserted 474 rows of data\n",
      "Inserted 474 rows of data\n",
      "Inserted 474 rows of data\n",
      "Inserted 474 rows of data\n",
      "Inserted 474 rows of data\n",
      "Inserted 474 rows of data\n",
      "Inserted 474 rows of data\n",
      "Inserted 473 rows of data\n",
      "Inserted 473 rows of data\n",
      "Batch insert finished\n"
     ]
    }
   ],
   "source": [
    "batch_insert(cql=q3_cql, cols=cols, data=df, size=500, session=session)"
   ]
  },
  {
   "cell_type": "markdown",
   "metadata": {},
   "source": [
    "#### Perform sanity check"
   ]
  },
  {
   "cell_type": "code",
   "execution_count": 46,
   "metadata": {},
   "outputs": [
    {
     "data": {
      "text/plain": [
       "[Row(song=\"Wonder What's Next\", userid=49.0, firstname='Chloe', lastname='Cuevas'),\n",
       " Row(song=\"In The Dragon's Den\", userid=49.0, firstname='Chloe', lastname='Cuevas'),\n",
       " Row(song='Too Tough (1994 Digital Remaster)', userid=44.0, firstname='Aleena', lastname='Kirby'),\n",
       " Row(song='Rio De Janeiro Blue (Album Version)', userid=49.0, firstname='Chloe', lastname='Cuevas'),\n",
       " Row(song='My Place', userid=15.0, firstname='Lily', lastname='Koch')]"
      ]
     },
     "execution_count": 46,
     "metadata": {},
     "output_type": "execute_result"
    }
   ],
   "source": [
    "query(f\"SELECT * FROM {table} LIMIT 5\", session, print_result=False)"
   ]
  },
  {
   "cell_type": "markdown",
   "metadata": {},
   "source": [
    "#### Execute query\n",
    "_Give me every user name (first and last) in my music app history who listened to the song 'All Hands Against His Own'_"
   ]
  },
  {
   "cell_type": "code",
   "execution_count": 47,
   "metadata": {},
   "outputs": [
    {
     "name": "stdout",
     "output_type": "stream",
     "text": [
      "[Row(firstname='Jacqueline', lastname='Lynch'),\n",
      " Row(firstname='Tegan', lastname='Levine'),\n",
      " Row(firstname='Sara', lastname='Johnson')]\n"
     ]
    }
   ],
   "source": [
    "q3 = query(q3_query, session)"
   ]
  },
  {
   "cell_type": "markdown",
   "metadata": {},
   "source": [
    "### Drop tables before closing out session"
   ]
  },
  {
   "cell_type": "code",
   "execution_count": 48,
   "metadata": {},
   "outputs": [
    {
     "data": {
      "text/plain": [
       "[<cassandra.cluster.ResultSet at 0x7f711b390748>,\n",
       " <cassandra.cluster.ResultSet at 0x7f7117e12668>,\n",
       " <cassandra.cluster.ResultSet at 0x7f7116db5898>]"
      ]
     },
     "execution_count": 48,
     "metadata": {},
     "output_type": "execute_result"
    }
   ],
   "source": [
    "[session.execute(q) for q in [q1_drop_table, q2_drop_table, q3_drop_table]]"
   ]
  },
  {
   "cell_type": "markdown",
   "metadata": {},
   "source": [
    "### Close session and cluster connection¶"
   ]
  },
  {
   "cell_type": "code",
   "execution_count": 49,
   "metadata": {},
   "outputs": [],
   "source": [
    "session.shutdown()\n",
    "cluster.shutdown()"
   ]
  }
 ],
 "metadata": {
  "kernelspec": {
   "display_name": "Python 3",
   "language": "python",
   "name": "python3"
  },
  "language_info": {
   "codemirror_mode": {
    "name": "ipython",
    "version": 3
   },
   "file_extension": ".py",
   "mimetype": "text/x-python",
   "name": "python",
   "nbconvert_exporter": "python",
   "pygments_lexer": "ipython3",
   "version": "3.6.3"
  }
 },
 "nbformat": 4,
 "nbformat_minor": 2
}
